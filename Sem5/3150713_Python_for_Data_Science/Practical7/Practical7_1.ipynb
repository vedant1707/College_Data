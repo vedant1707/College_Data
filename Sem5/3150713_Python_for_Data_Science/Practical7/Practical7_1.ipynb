{
 "cells": [
  {
   "cell_type": "code",
   "execution_count": 1,
   "metadata": {},
   "outputs": [
    {
     "name": "stdout",
     "output_type": "stream",
     "text": [
      "   good  long  movie  scary  slow  spooky\n",
      "0     0     1      1      1     0       0\n",
      "1     0     0      1      1     1       0\n",
      "2     1     0      1      0     0       1\n"
     ]
    }
   ],
   "source": [
    "import pandas as pd\n",
    "from sklearn.feature_extraction.text import CountVectorizer, TfidfVectorizer\n",
    "sentence_1=\"This movie is very scary and long\"\n",
    "sentence_2=\"This movie is not scary and is slow\"\n",
    "sentence_3=\"This movie is spooky and good\"\n",
    "CountVec = CountVectorizer(ngram_range=(1,1),stop_words='english')\n",
    "Count_data = CountVec.fit_transform([sentence_1,sentence_2,sentence_3])\n",
    "cv_dataframe=pd.DataFrame(Count_data.toarray(),columns=CountVec.get_feature_names())\n",
    "print(cv_dataframe)"
   ]
  },
  {
   "cell_type": "code",
   "execution_count": null,
   "metadata": {},
   "outputs": [],
   "source": []
  }
 ],
 "metadata": {
  "kernelspec": {
   "display_name": "Python 3",
   "language": "python",
   "name": "python3"
  },
  "language_info": {
   "codemirror_mode": {
    "name": "ipython",
    "version": 3
   },
   "file_extension": ".py",
   "mimetype": "text/x-python",
   "name": "python",
   "nbconvert_exporter": "python",
   "pygments_lexer": "ipython3",
   "version": "3.7.6"
  }
 },
 "nbformat": 4,
 "nbformat_minor": 4
}
