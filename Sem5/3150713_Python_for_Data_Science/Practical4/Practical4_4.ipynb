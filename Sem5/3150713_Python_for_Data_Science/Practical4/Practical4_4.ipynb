{
 "cells": [
  {
   "cell_type": "code",
   "execution_count": 3,
   "metadata": {},
   "outputs": [
    {
     "name": "stdout",
     "output_type": "stream",
     "text": [
      "Reading Line: 1 Content Red\t1\n",
      "\n",
      "Reading Line: 4 Content Green\t4\n",
      "\n",
      "Reading Line: 8 Content White\t8\n"
     ]
    }
   ],
   "source": [
    "from random import random\n",
    "sample_size = 0.40\n",
    "color_file = open(\"Colors.txt\",'r')\n",
    "for j, observ in enumerate(color_file):\n",
    "  if random()<=sample_size:\n",
    "   print(\"Reading Line: \" + str(j) + \" Content \" + observ)"
   ]
  },
  {
   "cell_type": "code",
   "execution_count": null,
   "metadata": {},
   "outputs": [],
   "source": []
  }
 ],
 "metadata": {
  "kernelspec": {
   "display_name": "Python 3",
   "language": "python",
   "name": "python3"
  },
  "language_info": {
   "codemirror_mode": {
    "name": "ipython",
    "version": 3
   },
   "file_extension": ".py",
   "mimetype": "text/x-python",
   "name": "python",
   "nbconvert_exporter": "python",
   "pygments_lexer": "ipython3",
   "version": "3.7.6"
  }
 },
 "nbformat": 4,
 "nbformat_minor": 4
}
