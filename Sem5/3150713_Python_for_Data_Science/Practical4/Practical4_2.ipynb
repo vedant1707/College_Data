{
 "cells": [
  {
   "cell_type": "code",
   "execution_count": 1,
   "metadata": {},
   "outputs": [
    {
     "name": "stdout",
     "output_type": "stream",
     "text": [
      "Reading Data : Color\tValue\n",
      "\n",
      "Reading Data : Red\t1\n",
      "\n",
      "Reading Data : Orange\t2\n",
      "\n",
      "Reading Data : Yellow\t3\n",
      "\n",
      "Reading Data : Green\t4\n",
      "\n",
      "Reading Data : Blue\t5\n",
      "\n",
      "Reading Data : Purple\t6\n",
      "\n",
      "Reading Data : Black\t7\n",
      "\n",
      "Reading Data : White\t8\n"
     ]
    }
   ],
   "source": [
    "color_file = open(\"Colors.txt\",\"r\")\n",
    "for observ in color_file:\n",
    "    print('Reading Data : ' + observ)"
   ]
  },
  {
   "cell_type": "code",
   "execution_count": null,
   "metadata": {},
   "outputs": [],
   "source": []
  }
 ],
 "metadata": {
  "kernelspec": {
   "display_name": "Python 3",
   "language": "python",
   "name": "python3"
  },
  "language_info": {
   "codemirror_mode": {
    "name": "ipython",
    "version": 3
   },
   "file_extension": ".py",
   "mimetype": "text/x-python",
   "name": "python",
   "nbconvert_exporter": "python",
   "pygments_lexer": "ipython3",
   "version": "3.7.6"
  }
 },
 "nbformat": 4,
 "nbformat_minor": 4
}
