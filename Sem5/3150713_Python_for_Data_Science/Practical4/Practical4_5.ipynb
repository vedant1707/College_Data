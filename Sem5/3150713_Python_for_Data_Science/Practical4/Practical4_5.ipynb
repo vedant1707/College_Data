{
 "cells": [
  {
   "cell_type": "code",
   "execution_count": 1,
   "metadata": {},
   "outputs": [
    {
     "name": "stdout",
     "output_type": "stream",
     "text": [
      "[[1 '1st' 'survived' ... 29.0 0 0]\n",
      " [2 '1st' 'survived' ... 0.9167000059999999 1 2]\n",
      " [3 '1st' 'died' ... 2.0 1 2]\n",
      " ...\n",
      " [1307 '3rd' 'died' ... 26.5 0 0]\n",
      " [1308 '3rd' 'died' ... 27.0 0 0]\n",
      " [1309 '3rd' 'died' ... 29.0 0 0]]\n"
     ]
    }
   ],
   "source": [
    "import pandas as pd\n",
    "titanic = pd.io.parsers.read_csv(\"titanic.csv\")\n",
    "print(titanic.values)"
   ]
  },
  {
   "cell_type": "code",
   "execution_count": null,
   "metadata": {},
   "outputs": [],
   "source": []
  }
 ],
 "metadata": {
  "kernelspec": {
   "display_name": "Python 3",
   "language": "python",
   "name": "python3"
  },
  "language_info": {
   "codemirror_mode": {
    "name": "ipython",
    "version": 3
   },
   "file_extension": ".py",
   "mimetype": "text/x-python",
   "name": "python",
   "nbconvert_exporter": "python",
   "pygments_lexer": "ipython3",
   "version": "3.7.6"
  }
 },
 "nbformat": 4,
 "nbformat_minor": 4
}
