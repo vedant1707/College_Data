{
 "cells": [
  {
   "cell_type": "code",
   "execution_count": 1,
   "metadata": {},
   "outputs": [
    {
     "name": "stdout",
     "output_type": "stream",
     "text": [
      "reading Line 1 content Red\t1\n",
      "\n",
      "reading Line 3 content Yellow\t3\n",
      "\n",
      "reading Line 5 content Blue\t5\n",
      "\n",
      "reading Line 7 content Black\t7\n",
      "\n"
     ]
    }
   ],
   "source": [
    "color_file=open(\"Colors.txt\",'r')\n",
    "for j, observ in enumerate(color_file):\n",
    "    if(j%2!=0):\n",
    "        print('reading Line ' + str(j) + ' content ' + observ)"
   ]
  },
  {
   "cell_type": "code",
   "execution_count": null,
   "metadata": {},
   "outputs": [],
   "source": []
  }
 ],
 "metadata": {
  "kernelspec": {
   "display_name": "Python 3",
   "language": "python",
   "name": "python3"
  },
  "language_info": {
   "codemirror_mode": {
    "name": "ipython",
    "version": 3
   },
   "file_extension": ".py",
   "mimetype": "text/x-python",
   "name": "python",
   "nbconvert_exporter": "python",
   "pygments_lexer": "ipython3",
   "version": "3.7.6"
  }
 },
 "nbformat": 4,
 "nbformat_minor": 4
}
